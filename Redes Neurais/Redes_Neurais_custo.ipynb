{
  "nbformat": 4,
  "nbformat_minor": 0,
  "metadata": {
    "colab": {
      "name": "Redes Neurais - custo.ipynb",
      "provenance": [],
      "collapsed_sections": [],
      "authorship_tag": "ABX9TyP5LvWBb7yyZFQtslwqhymI",
      "include_colab_link": true
    },
    "kernelspec": {
      "name": "python3",
      "display_name": "Python 3"
    },
    "language_info": {
      "name": "python"
    }
  },
  "cells": [
    {
      "cell_type": "markdown",
      "metadata": {
        "id": "view-in-github",
        "colab_type": "text"
      },
      "source": [
        "<a href=\"https://colab.research.google.com/github/rafaeldsouza/mestrado/blob/main/Redes%20Neurais/Redes_Neurais_custo.ipynb\" target=\"_parent\"><img src=\"https://colab.research.google.com/assets/colab-badge.svg\" alt=\"Open In Colab\"/></a>"
      ]
    },
    {
      "cell_type": "markdown",
      "source": [
        "**Aluno**: Rafael de Souza Conceição\n",
        "\n",
        "**Matéria**: Redes Neurais - Francisco de Assis Boldt"
      ],
      "metadata": {
        "id": "KUL026WnxzrF"
      }
    },
    {
      "cell_type": "markdown",
      "source": [
        "#Exercicio\n",
        "\n",
        "Faça um Jupyter Notebook com gráficos comparando a redução do custo em duas implementações diferentes do perceptron:\n",
        "\n",
        "com o treinamento online, isto é, o ajustes dos pesos usa o erro de 1 exemplo e cada vez;\n",
        "com o treinamento em batch, quando usa-se todos os exemplos da base de dados simultaneamente para estimar o erro e ajustar os pesos.\n",
        "Escreva um parágrafo explicando as diferenças e o motivo do comportamento de cada implementação.\n",
        "\n",
        "A entrega é um link para o Jupyter Notebook  hospedado no GitHub.\n",
        "\n"
      ],
      "metadata": {
        "id": "Knx3_WJAwH7E"
      }
    },
    {
      "cell_type": "code",
      "execution_count": 1,
      "metadata": {
        "id": "obvWZZ56wAPn"
      },
      "outputs": [],
      "source": [
        "import numpy as np\n",
        "\n"
      ]
    },
    {
      "cell_type": "code",
      "source": [
        "def geradataset(n=20):\n",
        "    X = np.random.uniform(size=(n,2))\n",
        "    y = np.array(X[:,0]>X[:,1], dtype=int)*2-1\n",
        "    return X, y\n",
        "\n",
        "X, y = geradataset()\n",
        "X, y"
      ],
      "metadata": {
        "colab": {
          "base_uri": "https://localhost:8080/"
        },
        "id": "lAcRL0Xu0CjX",
        "outputId": "ff1ddcc2-cec1-4933-9553-411ae4774bc9"
      },
      "execution_count": 2,
      "outputs": [
        {
          "output_type": "execute_result",
          "data": {
            "text/plain": [
              "(array([[0.63301318, 0.09620087],\n",
              "        [0.84290336, 0.41826248],\n",
              "        [0.62242627, 0.50801359],\n",
              "        [0.56338269, 0.40093152],\n",
              "        [0.16575532, 0.40651491],\n",
              "        [0.19571534, 0.98880211],\n",
              "        [0.11739178, 0.97764831],\n",
              "        [0.88290677, 0.23446152],\n",
              "        [0.83274186, 0.57647342],\n",
              "        [0.64008834, 0.77529296],\n",
              "        [0.22125739, 0.01536151],\n",
              "        [0.56185157, 0.20153069],\n",
              "        [0.28604267, 0.76421959],\n",
              "        [0.07855349, 0.41857869],\n",
              "        [0.48985016, 0.69376439],\n",
              "        [0.90617724, 0.76096096],\n",
              "        [0.95529721, 0.79338956],\n",
              "        [0.83517662, 0.97617551],\n",
              "        [0.61682411, 0.81052418],\n",
              "        [0.96406775, 0.43595022]]),\n",
              " array([ 1,  1,  1,  1, -1, -1, -1,  1,  1, -1,  1,  1, -1, -1, -1,  1,  1,\n",
              "        -1, -1,  1]))"
            ]
          },
          "metadata": {},
          "execution_count": 2
        }
      ]
    },
    {
      "cell_type": "code",
      "source": [
        "import matplotlib.pyplot as plt\n",
        "\n",
        "def plotadataset(X, y):\n",
        "    plt.xlabel('X1')\n",
        "    plt.ylabel('X2')\n",
        "    for k in set(y):\n",
        "        plt.plot(X[:,0][y==k],X[:,1][y==k], \"o\", alpha=0.3)\n",
        "\n",
        "plotadataset(X, y)\n",
        "\n",
        "def plotavetor(vetor, cor=\"k\"):\n",
        "  origem = [0,0]\n",
        "  plt.arrow(*origem,*vetor,color=cor)\n",
        "\n",
        "def perpendicular(vetor):\n",
        "  perp = np.array(vetor[::-1])\n",
        "  perp[0]*=-1\n",
        "  return perp\n",
        "\n",
        "vetor = [1,-1]\n",
        "hiperplano = perpendicular(vetor)\n",
        "plotavetor(hiperplano)"
      ],
      "metadata": {
        "colab": {
          "base_uri": "https://localhost:8080/",
          "height": 279
        },
        "id": "QzkBQRDN0gDH",
        "outputId": "2675e689-64a6-45bf-f73b-155308d6cbf5"
      },
      "execution_count": 3,
      "outputs": [
        {
          "output_type": "display_data",
          "data": {
            "text/plain": [
              "<Figure size 432x288 with 1 Axes>"
            ],
            "image/png": "[encoded data removed]"
          },
          "metadata": {
            "needs_background": "light"
          }
        }
      ]
    },
    {
      "cell_type": "code",
      "source": [
        "from sklearn.base import BaseEstimator, ClassifierMixin\n",
        "import random\n",
        "\n",
        "class CustoPerceptron():\n",
        "  @staticmethod\n",
        "  def erro(y, ypred):\n",
        "    return y-ypred\n",
        "\n",
        "  @staticmethod\n",
        "  def custo(y, ypred):\n",
        "    return np.sum(1 - CustoPerceptron.erro(y, ypred)**2) \n",
        "  @staticmethod\n",
        "  def gradiente(y, ypred, x):\n",
        "    return np.matmul(CustoPerceptron.erro(y,ypred),x)\n",
        "\n",
        "class Adaline():\n",
        "  def __init__(self):\n",
        "    self.preactivated = True\n",
        "\n",
        "  @staticmethod\n",
        "  def erro(y, ypred):\n",
        "    return y-ypred\n",
        "\n",
        "  @staticmethod\n",
        "  def custo(y, ypred):\n",
        "    return np.sum((1-Adaline.erro(y, ypred))**2) \n",
        "  @staticmethod\n",
        "  def gradiente(y, ypred, x):\n",
        "    return np.matmul(Adaline.erro(y,ypred),x)\n",
        "\n",
        "class HingeLoss():\n",
        "  @staticmethod\n",
        "  def erro(y, ypred):\n",
        "    return np.multiply(y,ypred)\n",
        "\n",
        "  @staticmethod\n",
        "  def custo(y, ypred):\n",
        "    return np.sum(1-HingeLoss.erro(y, ypred)) \n",
        "  @staticmethod\n",
        "  def gradiente(y, ypred, x):\n",
        "    marginais = HingeLoss.erro(y, ypred) < 1\n",
        "    return np.matmul(y[marginais],x[marginais])\n",
        "\n",
        "class Perceptron(BaseEstimator, ClassifierMixin):\n",
        "    \"\"\"\n",
        "    Primeira versão do Perceptron treinado pelo\n",
        "    Perceptron Learning Algorithm (PLA).\n",
        "    \"\"\"\n",
        "    def __init__(self, custo=CustoPerceptron()):\n",
        "        self.w = None\n",
        "        self.activation = lambda a: (a>=0)*2-1\n",
        "        self.alpha = 0.1\n",
        "        self.maxiter = 100\n",
        "        self.custo = custo\n",
        "\n",
        "    def fit(self, X, y):\n",
        "        self.w = np.random.uniform(-1, 1, size=X.shape[1])\n",
        "        for _ in range(self.maxiter):\n",
        "          if hasattr(self.custo,'preactivated') and self.custo.preactivated:\n",
        "            ypred = self.preactivate(X)\n",
        "          else:\n",
        "            ypred = self.predict(X)\n",
        "              \n",
        "          custo = self.custo.custo(y, ypred)\n",
        "          print(custo)\n",
        "          self.w = self.w + self.alpha*self.custo.gradiente(y, ypred, X)\n",
        "          if custo==0:\n",
        "            break\n",
        "\n",
        "    def preactivate(self, X):\n",
        "      return np.matmul(X, self.w)\n",
        "\n",
        "    def predict(self, X):\n",
        "        a = self.preactivate(X)\n",
        "        ypred = self.activation(a)\n",
        "        return ypred\n",
        "\n",
        "\n",
        "\n"
      ],
      "metadata": {
        "id": "lk562st8DK5A"
      },
      "execution_count": 38,
      "outputs": []
    },
    {
      "cell_type": "code",
      "source": [
        "X, y = geradataset()\n",
        "perceptron = Perceptron()\n",
        "perceptron.fit(X, y)\n",
        "ypred = perceptron.predict(X)\n",
        "print(sum(y==ypred)/len(y))\n"
      ],
      "metadata": {
        "colab": {
          "base_uri": "https://localhost:8080/"
        },
        "id": "dv5OfbrAotNZ",
        "outputId": "419c7295-9b34-4a04-c441-be9593954d8d"
      },
      "execution_count": 39,
      "outputs": [
        {
          "output_type": "stream",
          "name": "stdout",
          "text": [
            "-20\n",
            "-20\n",
            "-20\n",
            "-12\n",
            "-20\n",
            "12\n",
            "20\n",
            "20\n",
            "20\n",
            "20\n",
            "20\n",
            "20\n",
            "20\n",
            "20\n",
            "20\n",
            "20\n",
            "20\n",
            "20\n",
            "20\n",
            "20\n",
            "20\n",
            "20\n",
            "20\n",
            "20\n",
            "20\n",
            "20\n",
            "20\n",
            "20\n",
            "20\n",
            "20\n",
            "20\n",
            "20\n",
            "20\n",
            "20\n",
            "20\n",
            "20\n",
            "20\n",
            "20\n",
            "20\n",
            "20\n",
            "20\n",
            "20\n",
            "20\n",
            "20\n",
            "20\n",
            "20\n",
            "20\n",
            "20\n",
            "20\n",
            "20\n",
            "20\n",
            "20\n",
            "20\n",
            "20\n",
            "20\n",
            "20\n",
            "20\n",
            "20\n",
            "20\n",
            "20\n",
            "20\n",
            "20\n",
            "20\n",
            "20\n",
            "20\n",
            "20\n",
            "20\n",
            "20\n",
            "20\n",
            "20\n",
            "20\n",
            "20\n",
            "20\n",
            "20\n",
            "20\n",
            "20\n",
            "20\n",
            "20\n",
            "20\n",
            "20\n",
            "20\n",
            "20\n",
            "20\n",
            "20\n",
            "20\n",
            "20\n",
            "20\n",
            "20\n",
            "20\n",
            "20\n",
            "20\n",
            "20\n",
            "20\n",
            "20\n",
            "20\n",
            "20\n",
            "20\n",
            "20\n",
            "20\n",
            "20\n",
            "1.0\n"
          ]
        }
      ]
    },
    {
      "cell_type": "code",
      "source": [
        "perceptron = Perceptron(custo=Adaline())\n",
        "perceptron.fit(X, y)\n",
        "ypred = perceptron.predict(X)\n",
        "print(sum(y==ypred)/len(y))"
      ],
      "metadata": {
        "colab": {
          "base_uri": "https://localhost:8080/"
        },
        "id": "_d9i88UYo3Ex",
        "outputId": "8c00e2e9-4106-40ec-c073-e165238bc469"
      },
      "execution_count": 40,
      "outputs": [
        {
          "output_type": "stream",
          "name": "stdout",
          "text": [
            "74.67136471443825\n",
            "25.028631485940856\n",
            "34.793373850675195\n",
            "26.924339202477125\n",
            "27.255043213696414\n",
            "25.159917438829815\n",
            "24.49357881142339\n",
            "23.650533282900827\n",
            "23.15744749872753\n",
            "22.74424890509199\n",
            "22.462687031107183\n",
            "22.253124828799145\n",
            "22.108037577606165\n",
            "22.007087902531385\n",
            "21.940388565931148\n",
            "21.898289252257083\n",
            "21.874308475604796\n",
            "21.86324568889772\n",
            "21.86131890021485\n",
            "21.865659947593908\n",
            "21.87416079738364\n",
            "21.88526565798128\n",
            "21.897846037050794\n",
            "21.91109185148636\n",
            "21.924433263973324\n",
            "21.937479112982494\n",
            "21.94997080050446\n",
            "21.961747010620826\n",
            "21.972717130750656\n",
            "21.982841183350715\n",
            "21.99211479204397\n",
            "22.000557965298324\n",
            "22.00820679358558\n",
            "22.015107353982838\n",
            "22.02131128547628\n",
            "22.026872622300637\n",
            "22.031845570624377\n",
            "22.036282988323748\n",
            "22.04023538515462\n",
            "22.043750304682977\n",
            "22.046871983160948\n",
            "22.049641206408396\n",
            "22.052095305538135\n",
            "22.054268247441367\n",
            "22.056190787421937\n",
            "22.057890660068733\n",
            "22.059392791033257\n",
            "22.060719517332384\n",
            "22.061890807506085\n",
            "22.062924475724632\n",
            "22.063836385982437\n",
            "22.06464064401421\n",
            "22.065349775652983\n",
            "22.065974891124338\n",
            "22.066525835311555\n",
            "22.067011324395793\n",
            "22.067439069513842\n",
            "22.067815888223343\n",
            "22.068147804643257\n",
            "22.06844013916727\n",
            "22.06869758864378\n",
            "22.068924297889968\n",
            "22.06912392336473\n",
            "22.069299689775526\n",
            "22.069454440337957\n",
            "22.069590681349645\n",
            "22.069710621683843\n",
            "22.06981620775146\n",
            "22.069909154429737\n",
            "22.06999097240457\n",
            "22.07006299232941\n",
            "22.07012638616082\n",
            "22.070182185992643\n",
            "22.07023130067586\n",
            "22.070274530479725\n",
            "22.070312580021337\n",
            "22.070346069665277\n",
            "22.070375545572187\n",
            "22.070401488554655\n",
            "22.0704243218807\n",
            "22.070444418148945\n",
            "22.070462105344927\n",
            "22.070477672175787\n",
            "22.070491372768508\n",
            "22.070503430807555\n",
            "22.070514043178274\n",
            "22.070523383175132\n",
            "22.070531603326344\n",
            "22.07053883788081\n",
            "22.070545204997575\n",
            "22.070550808673264\n",
            "22.07055574043885\n",
            "22.070560080853344\n",
            "22.07056390081854\n",
            "22.070567262736425\n",
            "22.070570221527834\n",
            "22.07057282552918\n",
            "22.0705751172817\n",
            "22.070577134226056\n",
            "22.070578909313937\n",
            "1.0\n"
          ]
        }
      ]
    },
    {
      "cell_type": "code",
      "source": [
        "\n",
        "\n",
        "perceptron = Perceptron(custo=HingeLoss())\n",
        "perceptron.fit(X, y)\n",
        "ypred = perceptron.predict(X)\n",
        "print(sum(y==ypred)/len(y))"
      ],
      "metadata": {
        "colab": {
          "base_uri": "https://localhost:8080/"
        },
        "id": "xipyFhA5o62D",
        "outputId": "eea58d8f-25dc-4df3-8f87-4b5fedd8d84e"
      },
      "execution_count": 41,
      "outputs": [
        {
          "output_type": "stream",
          "name": "stdout",
          "text": [
            "10\n",
            "12\n",
            "16\n",
            "0\n",
            "1.0\n"
          ]
        }
      ]
    },
    {
      "cell_type": "code",
      "source": [
        "X, y = geradataset()\n",
        "perceptron = Perceptron()\n",
        "perceptron.fit(X, y)\n",
        "ypred = perceptron.predict(X)\n",
        "print(sum(y==ypred)/len(y))\n",
        "\n",
        "plotadataset(X,y)\n",
        "plotavetor(perpendicular(perceptron.w))\n",
        "\n",
        "plt.show()\n",
        "\n",
        "perceptron = Perceptron(custo=HingeLoss())\n",
        "perceptron.fit(X, y)\n",
        "ypred = perceptron.predict(X)\n",
        "print(sum(y==ypred)/len(y))\n",
        "\n",
        "plotadataset(X,y)\n",
        "plotavetor(perpendicular(perceptron.w))\n",
        "\n"
      ],
      "metadata": {
        "colab": {
          "base_uri": "https://localhost:8080/",
          "height": 1000
        },
        "id": "GI7lFIbciBl3",
        "outputId": "77a4f7d3-a294-462a-d9e0-8156cca46bc6"
      },
      "execution_count": 42,
      "outputs": [
        {
          "output_type": "stream",
          "name": "stdout",
          "text": [
            "-40\n",
            "-16\n",
            "-24\n",
            "-12\n",
            "-16\n",
            "-4\n",
            "8\n",
            "20\n",
            "20\n",
            "20\n",
            "20\n",
            "20\n",
            "20\n",
            "20\n",
            "20\n",
            "20\n",
            "20\n",
            "20\n",
            "20\n",
            "20\n",
            "20\n",
            "20\n",
            "20\n",
            "20\n",
            "20\n",
            "20\n",
            "20\n",
            "20\n",
            "20\n",
            "20\n",
            "20\n",
            "20\n",
            "20\n",
            "20\n",
            "20\n",
            "20\n",
            "20\n",
            "20\n",
            "20\n",
            "20\n",
            "20\n",
            "20\n",
            "20\n",
            "20\n",
            "20\n",
            "20\n",
            "20\n",
            "20\n",
            "20\n",
            "20\n",
            "20\n",
            "20\n",
            "20\n",
            "20\n",
            "20\n",
            "20\n",
            "20\n",
            "20\n",
            "20\n",
            "20\n",
            "20\n",
            "20\n",
            "20\n",
            "20\n",
            "20\n",
            "20\n",
            "20\n",
            "20\n",
            "20\n",
            "20\n",
            "20\n",
            "20\n",
            "20\n",
            "20\n",
            "20\n",
            "20\n",
            "20\n",
            "20\n",
            "20\n",
            "20\n",
            "20\n",
            "20\n",
            "20\n",
            "20\n",
            "20\n",
            "20\n",
            "20\n",
            "20\n",
            "20\n",
            "20\n",
            "20\n",
            "20\n",
            "20\n",
            "20\n",
            "20\n",
            "20\n",
            "20\n",
            "20\n",
            "20\n",
            "20\n",
            "1.0\n"
          ]
        },
        {
          "output_type": "display_data",
          "data": {
            "text/plain": [
              "<Figure size 432x288 with 1 Axes>"
            ],
            "image/png": "[encoded data removed]"
          },
          "metadata": {
            "needs_background": "light"
          }
        },
        {
          "output_type": "stream",
          "name": "stdout",
          "text": [
            "28\n",
            "18\n",
            "22\n",
            "18\n",
            "22\n",
            "14\n",
            "10\n",
            "10\n",
            "6\n",
            "0\n",
            "1.0\n"
          ]
        },
        {
          "output_type": "display_data",
          "data": {
            "text/plain": [
              "<Figure size 432x288 with 1 Axes>"
            ],
            "image/png": "[encoded data removed]"
          },
          "metadata": {
            "needs_background": "light"
          }
        }
      ]
    },
    {
      "cell_type": "code",
      "source": [
        "X, y = geradataset()\n",
        "perceptron = Perceptron(custo=HingeLoss)\n",
        "perceptron.fit(X, y)\n",
        "ypred = perceptron.predict(X)\n",
        "print(sum(y==ypred)/len(y))\n",
        "\n",
        "plotadataset(X,y)\n",
        "plotavetor(perpendicular(perceptron.w))\n",
        "\n",
        "plt.show()\n",
        "\n",
        "Xte, yte = geradataset(1000)\n",
        "ypred = perceptron.predict(Xte)\n",
        "print(sum(yte==ypred)/len(yte))\n",
        "\n",
        "plotadataset(Xte,yte)\n",
        "print(perceptron.w)\n",
        "plotavetor(perpendicular(perceptron.w))"
      ],
      "metadata": {
        "id": "uDjsIIg-imqd"
      },
      "execution_count": null,
      "outputs": []
    },
    {
      "cell_type": "code",
      "source": [
        "Xte, yte = geradataset(1000)\n",
        "ypred = perceptron.predict(Xte)\n",
        "sum(yte==ypred)/len(yte)"
      ],
      "metadata": {
        "colab": {
          "base_uri": "https://localhost:8080/"
        },
        "id": "07zYyfcaLBKl",
        "outputId": "57086a4f-b22a-4ecb-f7d5-1ded5c433ef9"
      },
      "execution_count": 12,
      "outputs": [
        {
          "output_type": "execute_result",
          "data": {
            "text/plain": [
              "0.981"
            ]
          },
          "metadata": {},
          "execution_count": 12
        }
      ]
    },
    {
      "cell_type": "code",
      "source": [
        "X, y = geradataset()\n",
        "perceptron.fit(X,y)\n",
        "ypred = perceptron.predict(Xte)\n",
        "sum(yte==ypred)/len(yte)\n",
        "\n",
        "plotadataset(X,y)\n",
        "plotavetor(perpendicular(perceptron.w))"
      ],
      "metadata": {
        "colab": {
          "base_uri": "https://localhost:8080/",
          "height": 279
        },
        "id": "qUQ7XEaFLXUg",
        "outputId": "77e26289-9c3c-48d6-d82b-40c4ffa730b4"
      },
      "execution_count": 6,
      "outputs": [
        {
          "output_type": "display_data",
          "data": {
            "text/plain": [
              "<Figure size 432x288 with 1 Axes>"
            ],
            "image/png": "[encoded data removed]"
          },
          "metadata": {
            "needs_background": "light"
          }
        }
      ]
    },
    {
      "cell_type": "markdown",
      "source": [
        "## Resposta\n",
        "\n",
        "\n",
        "Pude observar que a HingeLoss convergiu mais rapido do que a Adaline, devido a decida do gradiente que é mais suave na Adaline\n"
      ],
      "metadata": {
        "id": "trmIBLyEOz4x"
      }
    }
  ]
}